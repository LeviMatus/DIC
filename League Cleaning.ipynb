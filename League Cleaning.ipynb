{
 "cells": [
  {
   "cell_type": "code",
   "execution_count": 1,
   "metadata": {},
   "outputs": [],
   "source": [
    "import pandas as pd\n",
    "import numpy as np"
   ]
  },
  {
   "cell_type": "code",
   "execution_count": 2,
   "metadata": {},
   "outputs": [],
   "source": [
    "def count_instances(my_set, df):\n",
    "    count = 0\n",
    "    for t in df.values:\n",
    "        if my_set.issubset(t):\n",
    "            count += 1\n",
    "            print(t)\n",
    "    count"
   ]
  },
  {
   "cell_type": "code",
   "execution_count": 3,
   "metadata": {},
   "outputs": [],
   "source": [
    "df = pd.read_csv(\"league.csv\")"
   ]
  },
  {
   "cell_type": "code",
   "execution_count": 4,
   "metadata": {},
   "outputs": [],
   "source": [
    "mid_laners = df.loc[(df['Champion Name'].isin(['Veigar', 'Brand', 'Annie', 'Viktor', 'Ahri']))]"
   ]
  },
  {
   "cell_type": "code",
   "execution_count": 5,
   "metadata": {},
   "outputs": [],
   "source": [
    "gold_mid_laners = mid_laners.loc[df['Rank'] == 'GOLD-I']"
   ]
  },
  {
   "cell_type": "code",
   "execution_count": 6,
   "metadata": {},
   "outputs": [],
   "source": [
    "items = df.drop(columns=['Spell D', 'Spell F', 'Rank', 'Champion Name', 'Champion ID', 'Kills', 'Deaths', 'Assists', 'KDA', 'CS', 'Spending', 'Income', 'Perk 1', 'Perk 2', 'Perk 3' ,'Perk 4' ,'Perk 5', 'Perk 6', 'Item 7'])"
   ]
  },
  {
   "cell_type": "code",
   "execution_count": 7,
   "metadata": {},
   "outputs": [],
   "source": [
    "import math\n",
    "\n",
    "columns = ['Item 1', 'Item 2', 'Item 3', 'Item 4', 'Item 5', 'Item 6']\n",
    "unique_items = np.apply_along_axis(lambda x: [int(e) if not math.isnan(e) else -1 for e in x], 1, items.values)\n",
    "unique_items = np.apply_along_axis(\n",
    "    lambda x: [str(v) + '-' + str(list(x[:i]).count(v) + 1) if v != -1 else -1 for i, v in enumerate(x)], 1, unique_items)"
   ]
  },
  {
   "cell_type": "code",
   "execution_count": 8,
   "metadata": {},
   "outputs": [],
   "source": [
    "unique_items_df = pd.DataFrame(unique_items, columns=columns)"
   ]
  },
  {
   "cell_type": "code",
   "execution_count": 9,
   "metadata": {},
   "outputs": [],
   "source": [
    "sample = unique_items_df.sample(1000)"
   ]
  },
  {
   "cell_type": "code",
   "execution_count": 10,
   "metadata": {},
   "outputs": [],
   "source": [
    "sample.to_csv(\"league_cleaned2.csv\", index=False)"
   ]
  }
 ],
 "metadata": {
  "kernelspec": {
   "display_name": "Python 3",
   "language": "python",
   "name": "python3"
  },
  "language_info": {
   "codemirror_mode": {
    "name": "ipython",
    "version": 3
   },
   "file_extension": ".py",
   "mimetype": "text/x-python",
   "name": "python",
   "nbconvert_exporter": "python",
   "pygments_lexer": "ipython3",
   "version": "3.7.1"
  },
  "toc": {
   "base_numbering": 1,
   "nav_menu": {},
   "number_sections": true,
   "sideBar": true,
   "skip_h1_title": false,
   "title_cell": "Table of Contents",
   "title_sidebar": "Contents",
   "toc_cell": false,
   "toc_position": {},
   "toc_section_display": true,
   "toc_window_display": false
  }
 },
 "nbformat": 4,
 "nbformat_minor": 2
}
